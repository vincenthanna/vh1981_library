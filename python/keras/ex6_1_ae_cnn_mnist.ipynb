{
 "cells": [
  {
   "cell_type": "markdown",
   "metadata": {},
   "source": [
    "CNN으로 autoencoder 구현"
   ]
  },
  {
   "cell_type": "code",
   "execution_count": 14,
   "metadata": {},
   "outputs": [],
   "source": [
    "from keras import layers, models"
   ]
  },
  {
   "cell_type": "markdown",
   "metadata": {},
   "source": [
    "autoencoder CNN 모델"
   ]
  },
  {
   "cell_type": "code",
   "execution_count": 15,
   "metadata": {},
   "outputs": [],
   "source": [
    "def Conv2D(filters, kernel_size, padding='same', activation='relu'):\n",
    "    return layers.Conv2D(filters=filters, kernel_size=kernel_size, padding=padding, activation=activation)\n",
    "\n",
    "class AE(models.Model):\n",
    "    def __init__(self, original_shape=(1, 28, 28)):\n",
    "        # input\n",
    "        original = layers.Input(shape=original_shape)\n",
    "        \n",
    "        # encoding 1 : conv + maxpool\n",
    "        x = Conv2D(filters=4, kernel_size=(3,3))(original)\n",
    "        x = layers.MaxPooling2D(pool_size=(2, 2), padding='same')(x)\n",
    "        \n",
    "        # encoding 2 : filter수만 늘어나고 동일\n",
    "        x = Conv2D(8, (3,3))(x)\n",
    "        x = layers.MaxPooling2D((2,2), padding='same')(x)\n",
    "        \n",
    "        # encoding 3 : encoding 끝. 7x7의 2차원 이미지 출력\n",
    "        z = Conv2D(1, (7,7))(x)\n",
    "        \n",
    "        ######################\n",
    "        # decoder :\n",
    "        ######################\n",
    "        \n",
    "        '''\n",
    "        # 아래 링크에서 UpSampling 관련 내용 확인할 수 있음\n",
    "        https://kharshit.github.io/blog/2019/02/15/autoencoder-downsampling-and-upsampling\n",
    "        '''\n",
    "        \n",
    "        # decoding 1 : \n",
    "        y = Conv2D(16, (3,3))(z)\n",
    "        y = layers.UpSampling2D((2,2))(y)\n",
    "        \n",
    "        # decoding 2 : \n",
    "        y = Conv2D(8, (3,3))(y)\n",
    "        y = layers.UpSampling2D((2,2))(y)\n",
    "        \n",
    "        # decoding 3:\n",
    "        y = Conv2D(4, (3,3))(y)\n",
    "        \n",
    "        \"\"\"\n",
    "        # 원본으로 복원 과정\n",
    "        channel을 1로 줄이고 sigmoid 처리를 해 준다.\n",
    "        \"\"\"\n",
    "        decoded = Conv2D(1, (3,3), activation='sigmoid')(y)\n",
    "        \n",
    "        super().__init__(original, decoded) #input & output\n",
    "        self.compile(optimizer='adadelta', loss='binary_crossentropy', metrics=['accuracy'])"
   ]
  },
  {
   "cell_type": "markdown",
   "metadata": {},
   "source": [
    "데이터 준비"
   ]
  },
  {
   "cell_type": "code",
   "execution_count": 16,
   "metadata": {},
   "outputs": [],
   "source": [
    "from keras import datasets \n",
    "import keras \n",
    "\n",
    "class DATA():\n",
    "    def __init__(self):\n",
    "        num_classes = 10\n",
    "\n",
    "        (x_train, y_train), (x_test, y_test) = datasets.mnist.load_data()\n",
    "        img_rows, img_cols = x_train.shape[1:]\n",
    "\n",
    "        if backend.image_data_format() == 'channels_first':\n",
    "            x_train = x_train.reshape(x_train.shape[0], 1, img_rows, img_cols)\n",
    "            x_test = x_test.reshape(x_test.shape[0], 1, img_rows, img_cols)\n",
    "            input_shape = (1, img_rows, img_cols)\n",
    "        else:\n",
    "            x_train = x_train.reshape(x_train.shape[0], img_rows, img_cols, 1)\n",
    "            x_test = x_test.reshape(x_test.shape[0], img_rows, img_cols, 1)\n",
    "            input_shape = (img_rows, img_cols, 1)\n",
    "\n",
    "        x_train = x_train.astype('float32')\n",
    "        x_test = x_test.astype('float32')\n",
    "        x_train /= 255\n",
    "        x_test /= 255\n",
    "\n",
    "        y_train = keras.utils.to_categorical(y_train, num_classes)\n",
    "        y_test = keras.utils.to_categorical(y_test, num_classes)\n",
    "        \n",
    "        self.input_shape = input_shape\n",
    "        self.num_classes = num_classes\n",
    "        self.x_train, self.y_train = x_train, y_train\n",
    "        self.x_test, self.y_test = x_test, y_test\n"
   ]
  },
  {
   "cell_type": "markdown",
   "metadata": {},
   "source": [
    "학습효과 분석"
   ]
  },
  {
   "cell_type": "code",
   "execution_count": 17,
   "metadata": {},
   "outputs": [],
   "source": [
    "from utils.skeras import plot_loss, plot_acc\n",
    "import matplotlib.pyplot as plt\n",
    "\n",
    "# autoencoder 결과를 시각화\n",
    "from keras import backend\n",
    "\n",
    "def show_ae(ae, data):\n",
    "    x_test = data.x_test\n",
    "    decoded_imgs = ae.predict(x_test)\n",
    "    print(decoded_imgs.shape, data.x_test.shape)\n",
    "    \n",
    "    if backend.image_data_format() == 'channels_first':\n",
    "        N, n_ch, n_i, n_j = x_test.shape\n",
    "    else:\n",
    "        N, n_i, n_j, n_ch = x_test.shape\n",
    "        \n",
    "    x_test = x_test.reshape(N, n_i, n_j)\n",
    "    decoded_imgs = decoded_imgs.reshape(decoded_imgs.shape[0], n_i, n_j)\n",
    "    \n",
    "    n = 10\n",
    "    plt.figure(figsize=(20, 4))\n",
    "    for i in range(n):\n",
    "        ax = plt.subplot(2, n, i + 1)\n",
    "        plt.imshow(x_test[i], cmap='gray')\n",
    "        ax.get_xaxis().set_visible(False)\n",
    "        ax.get_yaxis().set_visible(False)\n",
    "        \n",
    "        ax = plt.subplot(2, n, i + 1 + n)\n",
    "        plt.imshow(decoded_imgs[i], cmap='gray')\n",
    "        ax.get_xaxis().set_visible(False)\n",
    "        ax.get_yaxis().set_visible(False)\n",
    "        \n",
    "    plt.show()"
   ]
  },
  {
   "cell_type": "markdown",
   "metadata": {},
   "source": [
    "학습 및 확인"
   ]
  },
  {
   "cell_type": "code",
   "execution_count": 18,
   "metadata": {},
   "outputs": [
    {
     "name": "stdout",
     "output_type": "stream",
     "text": [
      "Train on 48000 samples, validate on 12000 samples\n",
      "Epoch 1/10\n",
      "48000/48000 [==============================] - 82s 2ms/step - loss: 0.2314 - acc: 0.8055 - val_loss: 0.1617 - val_acc: 0.8026\n",
      "Epoch 2/10\n",
      "48000/48000 [==============================] - 76s 2ms/step - loss: 0.1427 - acc: 0.8056 - val_loss: 0.1227 - val_acc: 0.8110\n",
      "Epoch 3/10\n",
      "48000/48000 [==============================] - 84s 2ms/step - loss: 0.1188 - acc: 0.8083 - val_loss: 0.1106 - val_acc: 0.8096\n",
      "Epoch 4/10\n",
      "48000/48000 [==============================] - 109s 2ms/step - loss: 0.1112 - acc: 0.8099 - val_loss: 0.1082 - val_acc: 0.8129\n",
      "Epoch 5/10\n",
      "48000/48000 [==============================] - 92s 2ms/step - loss: 0.1075 - acc: 0.8107 - val_loss: 0.1040 - val_acc: 0.8113\n",
      "Epoch 6/10\n",
      "48000/48000 [==============================] - 88s 2ms/step - loss: 0.1051 - acc: 0.8111 - val_loss: 0.1069 - val_acc: 0.8099\n",
      "Epoch 7/10\n",
      "48000/48000 [==============================] - 82s 2ms/step - loss: 0.1033 - acc: 0.8114 - val_loss: 0.1014 - val_acc: 0.8116\n",
      "Epoch 8/10\n",
      "48000/48000 [==============================] - 11222s 234ms/step - loss: 0.1023 - acc: 0.8116 - val_loss: 0.1014 - val_acc: 0.8137\n",
      "Epoch 9/10\n",
      "48000/48000 [==============================] - 12941s 270ms/step - loss: 0.1013 - acc: 0.8118 - val_loss: 0.1004 - val_acc: 0.8117\n",
      "Epoch 10/10\n",
      "48000/48000 [==============================] - 122s 3ms/step - loss: 0.1002 - acc: 0.8120 - val_loss: 0.0984 - val_acc: 0.8137\n"
     ]
    },
    {
     "data": {
      "image/png": "[encoded data removed]",
      "text/plain": [
       "<matplotlib.figure.Figure at 0x13dec3048>"
      ]
     },
     "metadata": {},
     "output_type": "display_data"
    },
    {
     "data": {
      "image/png": "[encoded data removed]",
      "text/plain": [
       "<matplotlib.figure.Figure at 0x13e35d898>"
      ]
     },
     "metadata": {},
     "output_type": "display_data"
    }
   ],
   "source": [
    "def main(epochs = 10, batch_size=128):\n",
    "    data = DATA()\n",
    "    ae = AE(data.input_shape)\n",
    "    \n",
    "    history = ae.fit(data.x_train, data.x_train,\n",
    "                    epochs=epochs,\n",
    "                    batch_size=batch_size,\n",
    "                    shuffle=True,\n",
    "                    validation_split=0.2)\n",
    "    \n",
    "    plot_acc(history)\n",
    "    plt.show()\n",
    "    plot_loss(history)\n",
    "    plt.show()\n",
    "    \n",
    "if __name__ == '__main__':\n",
    "    main()"
   ]
  }
 ],
 "metadata": {
  "kernelspec": {
   "display_name": "Python 3",
   "language": "python",
   "name": "python3"
  },
  "language_info": {
   "codemirror_mode": {
    "name": "ipython",
    "version": 3
   },
   "file_extension": ".py",
   "mimetype": "text/x-python",
   "name": "python",
   "nbconvert_exporter": "python",
   "pygments_lexer": "ipython3",
   "version": "3.6.4"
  }
 },
 "nbformat": 4,
 "nbformat_minor": 2
}
