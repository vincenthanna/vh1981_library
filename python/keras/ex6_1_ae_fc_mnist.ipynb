{
 "cells": [
  {
   "cell_type": "code",
   "execution_count": null,
   "metadata": {},
   "outputs": [],
   "source": [
    "from keras import layers, models"
   ]
  },
  {
   "cell_type": "markdown",
   "metadata": {},
   "source": [
    "모델링 클래스\n",
    "\n",
    "input - hidden - output구조의 3개 layer 구조이다."
   ]
  },
  {
   "cell_type": "code",
   "execution_count": null,
   "metadata": {},
   "outputs": [],
   "source": [
    "class AE(models.Model):\n",
    "    def __init__(self, x_nodes=784, z_dim=36):\n",
    "        x = layers.Input(shape=(x_nodes,))\n",
    "        z = layers.Dense(units=z_dim, activation='relu')(x)\n",
    "        y = layers.Dense(units=x_nodes, activation='sigmoid')(z)\n",
    "        \n",
    "        # def __init__(self, inputs, outputs, name=None):\n",
    "        super().__init__(inputs=x, outputs=y) #이걸 호출해줘야 아래 compile()에서 에러 안남(self.outputs가 설정이 된다.)\n",
    "        \n",
    "        self.x = x\n",
    "        self.z = z\n",
    "        self.z_dim = z_dim\n",
    "        \n",
    "        '''\n",
    "        TODO : 'mse'로 하면 training속도는 빠른데 복원된 이미지가 더 나쁘다\n",
    "        추후 확인해 볼 것.\n",
    "        https://m.blog.naver.com/PostView.nhn?blogId=wjddudwo209&logNo=220863078509&proxyReferer=https%3A%2F%2Fwww.google.com%2F\n",
    "        '''\n",
    "        self.compile(optimizer='adadelta', loss='binary_crossentropy', metrics=['accuracy'])\n",
    "        \n",
    "    def enc(self):\n",
    "        return models.Model(self.x, self.z)\n",
    "    \n",
    "    def dec(self):\n",
    "        z = layers.Input(shape=(self.z_dim, ))\n",
    "        y_layer = self.layers[-1] #마지막 layer\n",
    "        y = y_layer(z)\n",
    "        return models.Model(z, y)"
   ]
  },
  {
   "cell_type": "markdown",
   "metadata": {},
   "source": [
    "MNIST 데이터를 준비.\n",
    "label은 필요 없으므로 버리고, fc로 사용할 것이므로 (-1, 28, 28)을 (-1, 784)로 편다."
   ]
  },
  {
   "cell_type": "code",
   "execution_count": null,
   "metadata": {},
   "outputs": [],
   "source": [
    "from keras.datasets import mnist\n",
    "import numpy as np\n",
    "\n",
    "(X_train, _), (X_test, _) = mnist.load_data() #label은 필요 없으므로 별도 변수를 할당하지 않는다.\n",
    "\n",
    "# 0~1 사이로 변경\n",
    "X_train = X_train.astype('float32') / 255. \n",
    "X_test = X_test.astype('float32') / 255.\n",
    "\n",
    "print(X_train.shape)\n",
    "print(X_test.shape)\n",
    "\n",
    "# 2차원 이미지를 1차원 배열로 변경.\n",
    "# 아래 코드는 np.prod(...)대신에 -1을 넣어도 동일하다.\n",
    "# np.prod()는 넘겨받은 배열의 element들을 다 곱한 값을 돌려준다.\n",
    "X_train = X_train.reshape((len(X_train), np.prod(X_train.shape[1:])))\n",
    "X_test = X_test.reshape((len(X_test), np.prod(X_test.shape[1:])))\n",
    "print(X_train.shape)\n",
    "print(X_test.shape)"
   ]
  },
  {
   "cell_type": "markdown",
   "metadata": {},
   "source": [
    "학습 효과 분석"
   ]
  },
  {
   "cell_type": "code",
   "execution_count": null,
   "metadata": {},
   "outputs": [],
   "source": [
    "from utils.skeras import plot_loss, plot_acc\n",
    "import matplotlib.pyplot as plt\n",
    "\n",
    "# AE 동작 확인\n",
    "def show_ae(ae):\n",
    "    enc = ae.enc()\n",
    "    dec = ae.dec()\n",
    "    \n",
    "    # X_test 이미지를 encoder 통과시켜서 인코딩 한다.\n",
    "    encoded_imgs = enc.predict(X_test)\n",
    "    '''\n",
    "    784 -> 36으로 줄어들어 있다.\n",
    "    '''\n",
    "    print(\"encoded_imgs.shape : \", encoded_imgs.shape) # (10000, 36)\n",
    "    decoded_imgs = dec.predict(encoded_imgs) # decoder가 복원하게 한다.\n",
    "    \n",
    "    n = 10\n",
    "    plt.figure(figsize=(20,6)) # figure 생성(그래프를 그리는 이미지 영역이라고 생각하면 된다.)\n",
    "    for i in range(n):\n",
    "        # test 원본출력\n",
    "        ax = plt.subplot(3, n, i + 1) #nrows, ncols, index\n",
    "        plt.imshow(X_test[i].reshape(28, 28))\n",
    "        plt.gray()\n",
    "        ax.get_xaxis().set_visible(False)\n",
    "        ax.get_yaxis().set_visible(False)\n",
    "        \n",
    "        # 인코딩된 값들을 그래프에 찍어서 보여준다.\n",
    "        ax = plt.subplot(3, n, i + 1 + n)\n",
    "        plt.stem(encoded_imgs[i].reshape(-1))\n",
    "        plt.gray()\n",
    "        ax.get_xaxis().set_visible(False)\n",
    "        ax.get_yaxis().set_visible(False)\n",
    "        \n",
    "        ax = plt.subplot(3, n, i + 1 + n + n)\n",
    "        plt.imshow(decoded_imgs[i].reshape(28, 28))\n",
    "        plt.gray()\n",
    "        ax.get_xaxis().set_visible(False)\n",
    "        ax.get_yaxis().set_visible(False)\n",
    "        \n",
    "        \n",
    "    plt.show()\n",
    "    \n"
   ]
  },
  {
   "cell_type": "markdown",
   "metadata": {},
   "source": [
    "학습"
   ]
  },
  {
   "cell_type": "code",
   "execution_count": null,
   "metadata": {},
   "outputs": [],
   "source": [
    "def main():\n",
    "    x_nodes = 784\n",
    "    z_dim = 36\n",
    "    \n",
    "    autoencoder = AE(x_nodes, z_dim)\n",
    "    '''\n",
    "    autoencoder에서 training에서는 encoder-decoder 전체 네트워크를 사용한다.\n",
    "    입/출력 모두 X_train을 넣으므로 autoencoder로 encoding후 decoding된 이미지와 원본간 차이가 loss가 된다.\n",
    "    '''\n",
    "    history = autoencoder.fit(X_train, X_train, epochs=10, batch_size=256, shuffle=True, validation_data=(X_test, X_test))\n",
    "    \n",
    "    plot_acc(history)\n",
    "    plt.show()\n",
    "    plot_loss(history)\n",
    "    plt.show()\n",
    "\n",
    "    show_ae(autoencoder)\n",
    "    plt.show()"
   ]
  },
  {
   "cell_type": "code",
   "execution_count": null,
   "metadata": {},
   "outputs": [],
   "source": [
    "if __name__ == '__main__':\n",
    "    main()"
   ]
  }
 ],
 "metadata": {
  "kernelspec": {
   "display_name": "Python 3",
   "language": "python",
   "name": "python3"
  },
  "language_info": {
   "codemirror_mode": {
    "name": "ipython",
    "version": 3
   },
   "file_extension": ".py",
   "mimetype": "text/x-python",
   "name": "python",
   "nbconvert_exporter": "python",
   "pygments_lexer": "ipython3",
   "version": "3.5.2"
  }
 },
 "nbformat": 4,
 "nbformat_minor": 2
}
