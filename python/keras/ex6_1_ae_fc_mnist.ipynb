{
 "cells": [
  {
   "cell_type": "code",
   "execution_count": 1,
   "metadata": {},
   "outputs": [
    {
     "name": "stderr",
     "output_type": "stream",
     "text": [
      "Using TensorFlow backend.\n"
     ]
    }
   ],
   "source": [
    "from keras import layers, models"
   ]
  },
  {
   "cell_type": "code",
   "execution_count": 4,
   "metadata": {},
   "outputs": [],
   "source": [
    "class AE(models.Model):\n",
    "    def __init__(self, x_nodes=784, z_dim=36):        \n",
    "        x = layers.Input(shape=(x_nodes,))\n",
    "        z = layers.Dense(units=z_dim, activation='relu')(x)\n",
    "        y = layers.Dense(units=x_nodes, activation='sigmoid')(z)\n",
    "        \n",
    "        super().__init__() # 인자를 궂이 넘길 필요는 없을것같다.\n",
    "        \n",
    "        self.x = x\n",
    "        self.z = z\n",
    "        self.z_dim = z_dim\n",
    "        \n",
    "        self.compile(optimizer='adadelta', loss='binary_crossentropy', metrics=['accuracy'])\n",
    "        \n",
    "    def enc(self):\n",
    "        return models.Model(self.x, self.z)\n",
    "    \n",
    "    def dec(self):\n",
    "        #z_shape = (self.z_dim)\n",
    "        z = layers.Input(shape=(self.z_dim, ))\n",
    "        y_layer = self.layers[-1] #마지막 layer\n",
    "        y = y_layer(z)\n",
    "        return models.Model(z, y)\n",
    "    \n",
    "\n",
    "############################################\n",
    "# 데이터 준비\n",
    "############################################3"
   ]
  },
  {
   "cell_type": "code",
   "execution_count": null,
   "metadata": {},
   "outputs": [],
   "source": []
  }
 ],
 "metadata": {
  "kernelspec": {
   "display_name": "Python 3",
   "language": "python",
   "name": "python3"
  },
  "language_info": {
   "codemirror_mode": {
    "name": "ipython",
    "version": 3
   },
   "file_extension": ".py",
   "mimetype": "text/x-python",
   "name": "python",
   "nbconvert_exporter": "python",
   "pygments_lexer": "ipython3",
   "version": "3.5.2"
  }
 },
 "nbformat": 4,
 "nbformat_minor": 2
}
