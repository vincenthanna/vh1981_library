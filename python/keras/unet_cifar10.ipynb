{
 "cells": [
  {
   "cell_type": "code",
   "execution_count": 1,
   "metadata": {},
   "outputs": [],
   "source": [
    "import matplotlib.pyplot as plt"
   ]
  },
  {
   "cell_type": "code",
   "execution_count": 2,
   "metadata": {},
   "outputs": [],
   "source": [
    "from keras import models, backend\n",
    "from keras.layers import Input, Conv2D, MaxPooling2D, Dropout, UpSampling2D, \\\n",
    "    BatchNormalization, Concatenate, Activation"
   ]
  },
  {
   "cell_type": "markdown",
   "metadata": {},
   "source": [
    "Model"
   ]
  },
  {
   "cell_type": "code",
   "execution_count": null,
   "metadata": {},
   "outputs": [],
   "source": [
    "class UNET(models.Model):\n",
    "    def __init__(self. original_shape, n_ch):\n",
    "        ic = 3 if backend.image_data_format() == 'channels_last' else 1 #채널이 있는 shape순서\n",
    "        \n",
    "        def conv(x, n_f, mp_flag=True):\n",
    "            x = MaxPooling2D(pool_size=(2,2), padding='same')(x) if mp_flag else x\n",
    "            x = Conv2D(n_f, (3,3), padding='same')(x)\n",
    "            x = BatchNormalization()(x)\n",
    "            x = Activation('tanh')(x)\n",
    "            x = Dropout(0.05)(x)\n",
    "            x = Conv2D(n_f, (3,3), padding='same')(x)\n",
    "            x = BatchNormalization()(x)\n",
    "            x = Activation('tanh')(x)\n",
    "            return x\n",
    "        \n",
    "        def deconv_unet(x, e, n_f):\n",
    "            x = UpSampling2D(size=(2,2))(x)\n",
    "            x = Concatenate(axis=ic)([x, e])\n",
    "            x = Conv2D(n_f, (3,3), padding='same')(x)\n",
    "            x = BatchNormalization()(x)\n",
    "            x = Activation('tanh')(x)\n",
    "            x = Conv2D(n_f, (3,3), padding='same')(x)\n",
    "            x = BatchNormalization()(x)\n",
    "            x = Activation('tanh')(x)\n",
    "            return x\n",
    "        \n",
    "        #input\n",
    "        original = Input(shape=original_shape)\n",
    "        \n",
    "        #encoding\n",
    "        c1 = conv(original, 16, mp_flag=False)\n",
    "        c2 = conv(c1, 32)\n",
    "        \n",
    "        #encoder\n",
    "        encoded = conv(c2, 64)\n",
    "        \n",
    "        #decoding\n",
    "        x = deconv_unet(encoded, c2, 32)\n",
    "        x = deconv_unet(x, c1, 16)\n",
    "        \n",
    "        decoded = Conv2D(filters=n_ch, kernel_size=(3,3), activation='sigmoid', padding='same')(x)\n",
    "        \n",
    "        super().__init__(original, decoded)\n",
    "        self.compile(optimizer = 'adadelta', loss='mse')\n",
    "            "
   ]
  },
  {
   "cell_type": "markdown",
   "metadata": {},
   "source": [
    "데이터 불러오기"
   ]
  },
  {
   "cell_type": "code",
   "execution_count": 3,
   "metadata": {},
   "outputs": [],
   "source": [
    "from keras import datasets, utils\n",
    "\n",
    "class DATA():\n",
    "    def __init__(self, in_ch=None):\n",
    "        (x_train, y_train), (x_test, y_test) = datasets.cifar10.load_data()\n",
    "        if x_train.ndim == 4:\n",
    "            if backend.image_data_format() == 'channels_first':\n",
    "                n_ch, img_rows, img_cols = x_train.shape[1:]\n",
    "            else:\n",
    "                img_rows, img_cols, n_ch = x_train.shape[1:]\n",
    "        else:\n",
    "            img_rows, img_cols = x_train.shape[1:]\n",
    "            \n",
    "        in_ch = n_ch if in_ch is None else in_ch"
   ]
  },
  {
   "cell_type": "code",
   "execution_count": null,
   "metadata": {},
   "outputs": [],
   "source": []
  }
 ],
 "metadata": {
  "kernelspec": {
   "display_name": "Python 3",
   "language": "python",
   "name": "python3"
  },
  "language_info": {
   "codemirror_mode": {
    "name": "ipython",
    "version": 3
   },
   "file_extension": ".py",
   "mimetype": "text/x-python",
   "name": "python",
   "nbconvert_exporter": "python",
   "pygments_lexer": "ipython3",
   "version": "3.6.4"
  }
 },
 "nbformat": 4,
 "nbformat_minor": 2
}
