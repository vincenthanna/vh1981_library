{
 "cells": [
  {
   "cell_type": "markdown",
   "metadata": {},
   "source": [
    "## python에서 함수의 argument가 전달되는 방법\n",
    "\n",
    "python의 경우 **'call by object reference'** 라고 부를 수 있는 방식으로 함수의 인자가 넘어간다."
   ]
  },
  {
   "cell_type": "markdown",
   "metadata": {},
   "source": [
    "python에는 mutable type과 immutable type이 있는데, mutable type은 자신이 가지고 있는 값이 변경될 수 있고, immutable type은 할당된 값의 변경이 불가능하다."
   ]
  },
  {
   "cell_type": "code",
   "execution_count": 10,
   "metadata": {},
   "outputs": [
    {
     "name": "stdout",
     "output_type": "stream",
     "text": [
      "id(a) 4304845184\n",
      "arg id(arg1) : 4304845184\n",
      "arg id(arg1) after changed : 4304845504\n"
     ]
    }
   ],
   "source": [
    "#immutable한 변수명이 넘어갈 때\n",
    "def test(arg1):\n",
    "    print(\"arg id(arg1) :\", id(arg1))\n",
    "    arg1 += 10\n",
    "    print(\"arg id(arg1) after changed :\", id(arg1))\n",
    "\n",
    "a = 1\n",
    "print(\"id(a)\", id(a))\n",
    "test(a)"
   ]
  },
  {
   "cell_type": "markdown",
   "metadata": {},
   "source": [
    "위 예제에서 a가 넘어간 arg1는 밖에 정의되어 있는 a와 동일 id를 가진다.\n",
    "그러나 넘어온 a(arg1)이 immutable이기 때문에 test1()함수 안에서 arg1값을 변경하려 하면 a와 별도의 새로운 object가 생기고 arg1은 새로 생긴 object를 가리키게 된다."
   ]
  },
  {
   "cell_type": "markdown",
   "metadata": {},
   "source": [
    "하지만 mutable한 object의 경우 내부 값을 변경해도 기존 object가 변경된다."
   ]
  },
  {
   "cell_type": "code",
   "execution_count": 11,
   "metadata": {},
   "outputs": [],
   "source": [
    "class obj1:\n",
    "    def __init__(self):\n",
    "        self.a = 0"
   ]
  },
  {
   "cell_type": "code",
   "execution_count": 12,
   "metadata": {},
   "outputs": [
    {
     "name": "stdout",
     "output_type": "stream",
     "text": [
      "id(o) 4398093256\n",
      "id(o) 4398093256\n"
     ]
    }
   ],
   "source": [
    "o = obj1()\n",
    "print(\"id(o)\", id(o))\n",
    "o.a = 20\n",
    "print(\"id(o)\", id(o))"
   ]
  },
  {
   "cell_type": "code",
   "execution_count": null,
   "metadata": {},
   "outputs": [],
   "source": []
  }
 ],
 "metadata": {
  "kernelspec": {
   "display_name": "Python 3",
   "language": "python",
   "name": "python3"
  },
  "language_info": {
   "codemirror_mode": {
    "name": "ipython",
    "version": 3
   },
   "file_extension": ".py",
   "mimetype": "text/x-python",
   "name": "python",
   "nbconvert_exporter": "python",
   "pygments_lexer": "ipython3",
   "version": "3.6.4"
  }
 },
 "nbformat": 4,
 "nbformat_minor": 2
}
